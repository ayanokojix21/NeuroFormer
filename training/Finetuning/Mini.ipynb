{
  "nbformat": 4,
  "nbformat_minor": 0,
  "metadata": {
    "colab": {
      "provenance": [],
      "gpuType": "T4"
    },
    "kernelspec": {
      "name": "python3",
      "display_name": "Python 3"
    },
    "language_info": {
      "name": "python"
    },
    "accelerator": "GPU"
  },
  "cells": [
    {
      "cell_type": "code",
      "source": [
        "%env CUDA_LAUNCH_BLOCKING=1"
      ],
      "metadata": {
        "colab": {
          "base_uri": "https://localhost:8080/"
        },
        "id": "5JR4RAVTdiyJ",
        "outputId": "ea63b32c-0899-4695-92f9-d44eca0ca515"
      },
      "execution_count": 1,
      "outputs": [
        {
          "output_type": "stream",
          "name": "stdout",
          "text": [
            "env: CUDA_LAUNCH_BLOCKING=1\n"
          ]
        }
      ]
    },
    {
      "cell_type": "code",
      "execution_count": 2,
      "metadata": {
        "colab": {
          "base_uri": "https://localhost:8080/"
        },
        "id": "SzVlYZNnLSgs",
        "outputId": "3e91bdd4-302d-4e56-ec04-3cfe849941f7"
      },
      "outputs": [
        {
          "output_type": "stream",
          "name": "stdout",
          "text": [
            "Cloning into 'NeuroFormer'...\n",
            "remote: Enumerating objects: 55, done.\u001b[K\n",
            "remote: Counting objects: 100% (55/55), done.\u001b[K\n",
            "remote: Compressing objects: 100% (44/44), done.\u001b[K\n",
            "remote: Total 55 (delta 12), reused 47 (delta 7), pack-reused 0 (from 0)\u001b[K\n",
            "Receiving objects: 100% (55/55), 2.36 MiB | 21.94 MiB/s, done.\n",
            "Resolving deltas: 100% (12/12), done.\n"
          ]
        }
      ],
      "source": [
        "! GIT_LFS_SKIP_SMUDGE=1 git clone https://github.com/ayanokojix21/NeuroFormer.git"
      ]
    },
    {
      "cell_type": "code",
      "source": [
        "project_path = \"/content/NeuroFormer\""
      ],
      "metadata": {
        "id": "nmubSwLELeHM"
      },
      "execution_count": 3,
      "outputs": []
    },
    {
      "cell_type": "code",
      "source": [
        "import sys\n",
        "sys.path.append(project_path)"
      ],
      "metadata": {
        "id": "lMSKBRowLeDm"
      },
      "execution_count": 4,
      "outputs": []
    },
    {
      "cell_type": "code",
      "source": [
        "# Importing Libraries\n",
        "import torch\n",
        "import torch.nn as nn\n",
        "import torch.optim as optim\n",
        "from torch.optim.lr_scheduler import ReduceLROnPlateau\n",
        "import os\n",
        "import matplotlib.pyplot as plt\n",
        "import json"
      ],
      "metadata": {
        "id": "t9Bg2hQzLeBC"
      },
      "execution_count": 5,
      "outputs": []
    },
    {
      "cell_type": "code",
      "source": [
        "from models.NeuroFormer import NeuroFormer # Importing the core Model\n",
        "from data.utils import Tokenizer"
      ],
      "metadata": {
        "id": "vFj1Hd8-Ld-c"
      },
      "execution_count": 6,
      "outputs": []
    },
    {
      "cell_type": "code",
      "source": [
        "# Setting Device to GPU\n",
        "device = torch.device('cuda' if torch.cuda.is_available() else 'cpu')\n",
        "device"
      ],
      "metadata": {
        "colab": {
          "base_uri": "https://localhost:8080/"
        },
        "id": "RAHxAHZ9Ld7x",
        "outputId": "e0d720d4-f138-475f-a402-a0650e7f7544"
      },
      "execution_count": 7,
      "outputs": [
        {
          "output_type": "execute_result",
          "data": {
            "text/plain": [
              "device(type='cuda')"
            ]
          },
          "metadata": {},
          "execution_count": 7
        }
      ]
    },
    {
      "cell_type": "code",
      "source": [
        "# For Reproducability\n",
        "torch.manual_seed(42)\n",
        "torch.cuda.manual_seed(42)"
      ],
      "metadata": {
        "id": "C4a12FScLd5M"
      },
      "execution_count": 8,
      "outputs": []
    },
    {
      "cell_type": "code",
      "source": [
        "# Loading Tokenizer data\n",
        "with open(f'{project_path}/tokenizer/char2idx.json') as f:\n",
        "    char2idx = json.load(f)"
      ],
      "metadata": {
        "id": "u04jdZGa-o_7"
      },
      "execution_count": 9,
      "outputs": []
    },
    {
      "cell_type": "code",
      "source": [
        "tokenizer = Tokenizer(char2idx) # Loading tokenizer object"
      ],
      "metadata": {
        "id": "lplm9Ahs-Svp"
      },
      "execution_count": 10,
      "outputs": []
    },
    {
      "cell_type": "code",
      "source": [
        "vocab_size = tokenizer.vocab_size\n",
        "vocab_size"
      ],
      "metadata": {
        "colab": {
          "base_uri": "https://localhost:8080/"
        },
        "id": "7F8nJoPiLd2g",
        "outputId": "39847354-f718-4769-c144-b398f1f1b27e"
      },
      "execution_count": 11,
      "outputs": [
        {
          "output_type": "execute_result",
          "data": {
            "text/plain": [
              "79"
            ]
          },
          "metadata": {},
          "execution_count": 11
        }
      ]
    },
    {
      "cell_type": "code",
      "source": [
        "# Model HyperParameters\n",
        "mode = 'decoder_only'\n",
        "vocab_size = vocab_size\n",
        "sequence_length = 256\n",
        "d_model = 384\n",
        "num_heads = 6\n",
        "hidden = 4 * d_model\n",
        "num_layers = 4\n",
        "drop_prob = 0.2"
      ],
      "metadata": {
        "id": "U6sDX2LwLdz0"
      },
      "execution_count": 12,
      "outputs": []
    },
    {
      "cell_type": "code",
      "source": [
        "# Training HyperParameters\n",
        "batch_size = 32\n",
        "total_steps = 3000\n",
        "lr = 1e-4\n",
        "best_model_path = 'models/finetune.pt'\n",
        "os.makedirs('models/', exist_ok = True)"
      ],
      "metadata": {
        "id": "VYFH1f0ULdxP"
      },
      "execution_count": 14,
      "outputs": []
    },
    {
      "cell_type": "code",
      "source": [
        "# Data Path\n",
        "train_path = f'{project_path}/data/finetune/train.txt'\n",
        "valid_path = f'{project_path}/data/finetune/valid.txt'\n",
        "\n",
        "with open(train_path, 'r', encoding='utf-8') as f:\n",
        "    train_data = tokenizer.encode(f.read())\n",
        "\n",
        "with open(valid_path, 'r', encoding='utf-8') as f:\n",
        "    valid_data = tokenizer.encode(f.read())\n",
        "\n",
        "train_data = torch.tensor(train_data, dtype=torch.long)\n",
        "valid_data = torch.tensor(valid_data, dtype=torch.long)"
      ],
      "metadata": {
        "id": "rZrNQ0-jLduj"
      },
      "execution_count": 15,
      "outputs": []
    },
    {
      "cell_type": "code",
      "source": [
        "def get_batch(data, batch_size, block_size):\n",
        "    idx = torch.randint(len(data) - block_size, (batch_size,))\n",
        "    X = torch.stack([data[i: i + block_size] for i in idx])\n",
        "    y = torch.stack([data[i + 1: i + block_size + 1] for i in idx])\n",
        "    return X.to(device), y.to(device)"
      ],
      "metadata": {
        "id": "l2awoyG6HDXZ"
      },
      "execution_count": 16,
      "outputs": []
    },
    {
      "cell_type": "code",
      "source": [
        "train_loader = get_batch(train_data, batch_size, sequence_length)\n",
        "valid_loader = get_batch(valid_data, batch_size, sequence_length)"
      ],
      "metadata": {
        "id": "qyzwcxmTHF2u"
      },
      "execution_count": 17,
      "outputs": []
    },
    {
      "cell_type": "code",
      "source": [
        "# Building Up Encoder Only Model\n",
        "model = NeuroFormer(\n",
        "    mode=mode,\n",
        "    vocab_size=vocab_size,\n",
        "    sequence_length=sequence_length,\n",
        "    d_model=d_model,\n",
        "    num_heads=num_heads,\n",
        "    hidden=hidden,\n",
        "    num_layers=num_layers,\n",
        "    drop_prob=drop_prob\n",
        ").to(device)"
      ],
      "metadata": {
        "id": "f4Rob0mBLdr-"
      },
      "execution_count": 18,
      "outputs": []
    },
    {
      "cell_type": "code",
      "source": [
        "print(f\"Model parameters: {sum(p.numel() for p in model.parameters()):,}\")"
      ],
      "metadata": {
        "colab": {
          "base_uri": "https://localhost:8080/"
        },
        "id": "usz-Y6UXLdpZ",
        "outputId": "6b1527ce-a11e-41d9-83fc-f304c5a5776b"
      },
      "execution_count": 19,
      "outputs": [
        {
          "output_type": "stream",
          "name": "stdout",
          "text": [
            "Model parameters: 9,625,423\n"
          ]
        }
      ]
    },
    {
      "cell_type": "code",
      "source": [
        "checkpoint_path = f'models/Mini.pt'\n",
        "model.load_state_dict(torch.load(checkpoint_path))"
      ],
      "metadata": {
        "colab": {
          "base_uri": "https://localhost:8080/"
        },
        "id": "E-R7bosfKNjG",
        "outputId": "bde281e8-efb5-4801-ae89-6dedeb234048"
      },
      "execution_count": 20,
      "outputs": [
        {
          "output_type": "execute_result",
          "data": {
            "text/plain": [
              "<All keys matched successfully>"
            ]
          },
          "metadata": {},
          "execution_count": 20
        }
      ]
    },
    {
      "cell_type": "code",
      "source": [
        "for i, layer in enumerate(model.model.layers):\n",
        "    if i < 3:\n",
        "        for param in layer.parameters():\n",
        "            param.requires_grad = False"
      ],
      "metadata": {
        "id": "LfHcWTKecR89"
      },
      "execution_count": 21,
      "outputs": []
    },
    {
      "cell_type": "code",
      "source": [
        "# Defining Optimizer, scheduler and Criterion\n",
        "optimizer = optim.AdamW(model.parameters(), lr=lr, weight_decay=0.01)\n",
        "criterion = nn.CrossEntropyLoss()\n",
        "\n",
        "lr_scheduler = ReduceLROnPlateau(\n",
        "    optimizer,\n",
        "    mode='min',\n",
        "    factor=0.5,\n",
        "    patience=2,\n",
        "    threshold=1e-4,\n",
        "    min_lr=1e-6\n",
        ")"
      ],
      "metadata": {
        "id": "6PUGnreALdjr"
      },
      "execution_count": 22,
      "outputs": []
    },
    {
      "cell_type": "code",
      "source": [
        "def eval(model, dataloader):\n",
        "    model.eval()\n",
        "    total_loss = 0\n",
        "\n",
        "    with torch.no_grad():\n",
        "        for batch in dataloader:\n",
        "\n",
        "            input_ids, labels = get_batch(train_data, batch_size, sequence_length)\n",
        "\n",
        "            logits = model(input_ids)\n",
        "            loss = criterion(logits.view(-1, logits.size(-1)), labels.reshape(-1))\n",
        "            total_loss += loss.item()\n",
        "\n",
        "    return total_loss / len(dataloader)"
      ],
      "metadata": {
        "id": "HFzLc4O2LdhH"
      },
      "execution_count": 23,
      "outputs": []
    },
    {
      "cell_type": "code",
      "source": [
        "train_losses, val_losses, val_steps = [], [], []"
      ],
      "metadata": {
        "id": "xmEIlDf5LdeM"
      },
      "execution_count": 24,
      "outputs": []
    },
    {
      "cell_type": "code",
      "source": [
        "def train_model():\n",
        "    model.train()\n",
        "    best_val_loss = float('inf')\n",
        "    step = 0\n",
        "\n",
        "    while step < total_steps:\n",
        "        for batch in train_loader:\n",
        "\n",
        "            if step >= total_steps:\n",
        "                break\n",
        "\n",
        "            input_ids, labels = get_batch(train_data, batch_size, sequence_length)\n",
        "\n",
        "            optimizer.zero_grad()\n",
        "\n",
        "            logits = model(input_ids)\n",
        "            loss = criterion(logits.view(-1, logits.size(-1)), labels.reshape(-1))\n",
        "\n",
        "            loss.backward()\n",
        "            optimizer.step()\n",
        "            torch.nn.utils.clip_grad_norm_(model.parameters(), max_norm=1.0)\n",
        "\n",
        "            train_losses.append(loss.item())\n",
        "\n",
        "            if step % 200 == 0 or step == total_steps - 1:\n",
        "                avg_val_loss = eval(model, valid_loader)\n",
        "                val_losses.append(avg_val_loss)\n",
        "                val_steps.append(step)\n",
        "                model.train()\n",
        "\n",
        "                print(f\"Step {step}: Train Loss: {loss.item():.4f}, Val Loss = {avg_val_loss:.4f}\")\n",
        "\n",
        "                prev_lr = optimizer.param_groups[0]['lr']\n",
        "                lr_scheduler.step(avg_val_loss)\n",
        "                new_lr = optimizer.param_groups[0]['lr']\n",
        "                if new_lr != prev_lr:\n",
        "                    print(f\"Learning rate reduced to {new_lr:.6f}\")\n",
        "\n",
        "                if avg_val_loss < best_val_loss:\n",
        "                    best_val_loss = avg_val_loss\n",
        "                    torch.save(model.state_dict(), best_model_path)\n",
        "                    print(f\"Best model saved at step {step}\")\n",
        "\n",
        "            step += 1"
      ],
      "metadata": {
        "id": "blrzeU7LLdbS"
      },
      "execution_count": 25,
      "outputs": []
    },
    {
      "cell_type": "code",
      "source": [
        "train_model()"
      ],
      "metadata": {
        "colab": {
          "base_uri": "https://localhost:8080/"
        },
        "id": "4kRcZ509LdY0",
        "outputId": "1a16b792-f99b-42bc-97e8-a64c6f8af84b"
      },
      "execution_count": 26,
      "outputs": [
        {
          "output_type": "stream",
          "name": "stdout",
          "text": [
            "Step 0: Train Loss: 1.9340, Val Loss = 1.8508\n",
            "Best model saved at step 0\n",
            "Step 200: Train Loss: 1.2911, Val Loss = 1.2312\n",
            "Best model saved at step 200\n",
            "Step 400: Train Loss: 1.2842, Val Loss = 1.2198\n",
            "Best model saved at step 400\n",
            "Step 600: Train Loss: 1.2769, Val Loss = 1.2021\n",
            "Best model saved at step 600\n",
            "Step 800: Train Loss: 1.2342, Val Loss = 1.1943\n",
            "Best model saved at step 800\n",
            "Step 1000: Train Loss: 1.2470, Val Loss = 1.1795\n",
            "Best model saved at step 1000\n",
            "Step 1200: Train Loss: 1.2245, Val Loss = 1.1688\n",
            "Best model saved at step 1200\n",
            "Step 1400: Train Loss: 1.2420, Val Loss = 1.1724\n",
            "Step 1600: Train Loss: 1.2657, Val Loss = 1.1700\n",
            "Step 1800: Train Loss: 1.1989, Val Loss = 1.1485\n",
            "Best model saved at step 1800\n",
            "Step 2000: Train Loss: 1.1816, Val Loss = 1.1075\n",
            "Best model saved at step 2000\n",
            "Step 2200: Train Loss: 1.1966, Val Loss = 1.1517\n",
            "Step 2400: Train Loss: 1.2123, Val Loss = 1.1475\n",
            "Step 2600: Train Loss: 1.2110, Val Loss = 1.1361\n",
            "Learning rate reduced to 0.000050\n",
            "Step 2800: Train Loss: 1.1955, Val Loss = 1.1066\n",
            "Best model saved at step 2800\n",
            "Step 2999: Train Loss: 1.1587, Val Loss = 1.1464\n"
          ]
        }
      ]
    },
    {
      "cell_type": "code",
      "source": [
        "def visualize(train_losses, val_losses, val_steps):\n",
        "    plt.plot(train_losses, label='Train Loss')\n",
        "    plt.plot(val_steps, val_losses, label='Val Loss')\n",
        "    plt.xlabel('Steps')\n",
        "    plt.ylabel('Loss')\n",
        "    plt.title('Training and Validation Loss')\n",
        "    plt.legend()\n",
        "    plt.show()"
      ],
      "metadata": {
        "id": "Jp_-YVM5LdWI"
      },
      "execution_count": 27,
      "outputs": []
    },
    {
      "cell_type": "code",
      "source": [
        "visualize(train_losses, val_losses, val_steps)"
      ],
      "metadata": {
        "id": "WI866tC9LdTb",
        "colab": {
          "base_uri": "https://localhost:8080/",
          "height": 472
        },
        "outputId": "d0fa6b81-a231-4b0c-b8c4-6c79107d2575"
      },
      "execution_count": 28,
      "outputs": [
        {
          "output_type": "display_data",
          "data": {
            "text/plain": [
              "<Figure size 640x480 with 1 Axes>"
            ],
            "image/png": "[encoded data removed]"
          },
          "metadata": {}
        }
      ]
    },
    {
      "cell_type": "code",
      "source": [
        "import torch\n",
        "import torch.nn as nn\n",
        "\n",
        "@torch.no_grad()\n",
        "def generate(model, tokenizer, start_text, max_new_tokens=200, block_size=256, temperature=1.0, device='cuda'):\n",
        "    model.eval()\n",
        "\n",
        "    context_ids = tokenizer.encode(start_text)\n",
        "    context = torch.tensor(context_ids, dtype=torch.long, device=device).unsqueeze(0)\n",
        "\n",
        "    for _ in range(max_new_tokens):\n",
        "\n",
        "        input_ids = context[:, -block_size:]\n",
        "\n",
        "        logits = model(input_ids)\n",
        "        logits = logits[:, -1, :] / temperature\n",
        "        probs = torch.softmax(logits, dim=-1)\n",
        "\n",
        "        next_token = torch.multinomial(probs, num_samples=1)\n",
        "\n",
        "        context = torch.cat((context, next_token), dim=1)\n",
        "\n",
        "    output_text = tokenizer.decode(context[0].tolist())\n",
        "    return output_text"
      ],
      "metadata": {
        "id": "_r8bNgOu9ZKY"
      },
      "execution_count": 29,
      "outputs": []
    },
    {
      "cell_type": "code",
      "source": [
        "def chat(model, tokenizer, max_new_tokens=200, device='cuda'):\n",
        "    print(\"Chatbot ready! Type 'exit' to stop.\")\n",
        "    context = \"\"\n",
        "\n",
        "    while True:\n",
        "        user_input = input(\"<user> \")\n",
        "        if user_input.lower() == \"exit\":\n",
        "            break\n",
        "\n",
        "        context += f\"<user> {user_input}\\n<assistant> \"\n",
        "        response = generate(\n",
        "            model,\n",
        "            tokenizer,\n",
        "            start_text=context,\n",
        "            max_new_tokens=max_new_tokens,\n",
        "            block_size=256,\n",
        "            temperature=0.8,\n",
        "            device=device\n",
        "        )\n",
        "\n",
        "        new_response = response[len(context):].split(\"<user>\")[0].strip()\n",
        "        print(f\"<assistant> {new_response}\\n\")\n",
        "\n",
        "        context += f\"{new_response}\\n\""
      ],
      "metadata": {
        "id": "ZIzc4w9Tlydl"
      },
      "execution_count": 30,
      "outputs": []
    },
    {
      "cell_type": "code",
      "source": [
        "chat(model, tokenizer, device=device)"
      ],
      "metadata": {
        "id": "UQ0DoJiyKv0C",
        "colab": {
          "base_uri": "https://localhost:8080/"
        },
        "outputId": "334ec51e-d01e-4959-fab5-907dbac3fd68"
      },
      "execution_count": 31,
      "outputs": [
        {
          "name": "stdout",
          "output_type": "stream",
          "text": [
            "Chatbot ready! Type 'exit' to stop.\n",
            "<user> What is AI\n",
            "<assistant> I have to see you to take a nice ?\n",
            "\n",
            "<user> Hello How are You\n",
            "<assistant> Of course ?\n",
            "<assistant> Hello , I will be offering to us .\n",
            "\n",
            "<user> What can you do\n",
            "<assistant> Because I think of the best past ?\n",
            "<assistant> I should like to be the family .\n",
            "\n",
            "<user> can you help me\n",
            "<assistant> I have the only hard bad . You can over the accident with the provide of the first would you like to drop fifty and a lot of the size vacation , waiting , nobody of the face .\n",
            "<assistant> What ? We will like to\n",
            "\n",
            "<user> do you know english\n",
            "<assistant> I would speak you like to study to pay the real stay in the tock the station .\n",
            "\n",
            "<user> exit\n"
          ]
        }
      ]
    },
    {
      "cell_type": "code",
      "source": [],
      "metadata": {
        "id": "lFZnXYgWa8O-"
      },
      "execution_count": null,
      "outputs": []
    }
  ]
}