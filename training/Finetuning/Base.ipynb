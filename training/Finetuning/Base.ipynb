{
  "nbformat": 4,
  "nbformat_minor": 0,
  "metadata": {
    "colab": {
      "provenance": [],
      "gpuType": "T4"
    },
    "kernelspec": {
      "name": "python3",
      "display_name": "Python 3"
    },
    "language_info": {
      "name": "python"
    },
    "accelerator": "GPU"
  },
  "cells": [
    {
      "cell_type": "code",
      "source": [
        "%env CUDA_LAUNCH_BLOCKING=1"
      ],
      "metadata": {
        "colab": {
          "base_uri": "https://localhost:8080/"
        },
        "id": "5JR4RAVTdiyJ",
        "outputId": "22e21e61-0ed7-4b2a-9e69-d04737056eb4"
      },
      "execution_count": 1,
      "outputs": [
        {
          "output_type": "stream",
          "name": "stdout",
          "text": [
            "env: CUDA_LAUNCH_BLOCKING=1\n"
          ]
        }
      ]
    },
    {
      "cell_type": "code",
      "source": [
        "from google.colab import drive\n",
        "drive.mount('/content/drive')"
      ],
      "metadata": {
        "colab": {
          "base_uri": "https://localhost:8080/"
        },
        "id": "Ab6gbT7ZCe9u",
        "outputId": "cc684126-dd4d-477d-ace8-4846f6858d97"
      },
      "execution_count": 2,
      "outputs": [
        {
          "output_type": "stream",
          "name": "stdout",
          "text": [
            "Mounted at /content/drive\n"
          ]
        }
      ]
    },
    {
      "cell_type": "code",
      "execution_count": 3,
      "metadata": {
        "colab": {
          "base_uri": "https://localhost:8080/"
        },
        "id": "SzVlYZNnLSgs",
        "outputId": "2943d0df-9e9c-4956-cfe4-cfb0b4eabd85"
      },
      "outputs": [
        {
          "output_type": "stream",
          "name": "stdout",
          "text": [
            "Cloning into 'NeuroFormer'...\n",
            "remote: Enumerating objects: 55, done.\u001b[K\n",
            "remote: Counting objects: 100% (55/55), done.\u001b[K\n",
            "remote: Compressing objects: 100% (44/44), done.\u001b[K\n",
            "remote: Total 55 (delta 12), reused 47 (delta 7), pack-reused 0 (from 0)\u001b[K\n",
            "Receiving objects: 100% (55/55), 2.36 MiB | 13.95 MiB/s, done.\n",
            "Resolving deltas: 100% (12/12), done.\n"
          ]
        }
      ],
      "source": [
        "! GIT_LFS_SKIP_SMUDGE=1 git clone https://github.com/ayanokojix21/NeuroFormer.git"
      ]
    },
    {
      "cell_type": "code",
      "source": [
        "project_path = \"/content/NeuroFormer\""
      ],
      "metadata": {
        "id": "nmubSwLELeHM"
      },
      "execution_count": 4,
      "outputs": []
    },
    {
      "cell_type": "code",
      "source": [
        "import sys\n",
        "sys.path.append(project_path)"
      ],
      "metadata": {
        "id": "lMSKBRowLeDm"
      },
      "execution_count": 5,
      "outputs": []
    },
    {
      "cell_type": "code",
      "source": [
        "# Importing Libraries\n",
        "import torch\n",
        "import torch.nn as nn\n",
        "import torch.optim as optim\n",
        "from torch.optim.lr_scheduler import ReduceLROnPlateau\n",
        "import os\n",
        "import matplotlib.pyplot as plt\n",
        "import json"
      ],
      "metadata": {
        "id": "t9Bg2hQzLeBC"
      },
      "execution_count": 6,
      "outputs": []
    },
    {
      "cell_type": "code",
      "source": [
        "from models.NeuroFormer import NeuroFormer # Importing the core Model\n",
        "from data.utils import Tokenizer"
      ],
      "metadata": {
        "id": "vFj1Hd8-Ld-c"
      },
      "execution_count": 7,
      "outputs": []
    },
    {
      "cell_type": "code",
      "source": [
        "# Setting Device to GPU\n",
        "device = torch.device('cuda' if torch.cuda.is_available() else 'cpu')\n",
        "device"
      ],
      "metadata": {
        "colab": {
          "base_uri": "https://localhost:8080/"
        },
        "id": "RAHxAHZ9Ld7x",
        "outputId": "40d34fba-ebda-49cb-f54e-2c2204f4b7ce"
      },
      "execution_count": 8,
      "outputs": [
        {
          "output_type": "execute_result",
          "data": {
            "text/plain": [
              "device(type='cuda')"
            ]
          },
          "metadata": {},
          "execution_count": 8
        }
      ]
    },
    {
      "cell_type": "code",
      "source": [
        "# For Reproducability\n",
        "torch.manual_seed(42)\n",
        "torch.cuda.manual_seed(42)"
      ],
      "metadata": {
        "id": "C4a12FScLd5M"
      },
      "execution_count": 9,
      "outputs": []
    },
    {
      "cell_type": "code",
      "source": [
        "# Loading Tokenizer data\n",
        "with open(f'{project_path}/tokenizer/char2idx.json') as f:\n",
        "    char2idx = json.load(f)"
      ],
      "metadata": {
        "id": "u04jdZGa-o_7"
      },
      "execution_count": 10,
      "outputs": []
    },
    {
      "cell_type": "code",
      "source": [
        "tokenizer = Tokenizer(char2idx) # Loading tokenizer object"
      ],
      "metadata": {
        "id": "lplm9Ahs-Svp"
      },
      "execution_count": 11,
      "outputs": []
    },
    {
      "cell_type": "code",
      "source": [
        "vocab_size = tokenizer.vocab_size\n",
        "vocab_size"
      ],
      "metadata": {
        "colab": {
          "base_uri": "https://localhost:8080/"
        },
        "id": "7F8nJoPiLd2g",
        "outputId": "2c09b002-f45b-430f-f85f-a0244506a6f0"
      },
      "execution_count": 12,
      "outputs": [
        {
          "output_type": "execute_result",
          "data": {
            "text/plain": [
              "79"
            ]
          },
          "metadata": {},
          "execution_count": 12
        }
      ]
    },
    {
      "cell_type": "code",
      "source": [
        "# Model HyperParameters\n",
        "mode = 'decoder_only'\n",
        "vocab_size = vocab_size\n",
        "sequence_length = 512\n",
        "d_model = 512\n",
        "num_heads = 8\n",
        "hidden = 4 * d_model\n",
        "num_layers = 6\n",
        "drop_prob = 0.2"
      ],
      "metadata": {
        "id": "U6sDX2LwLdz0"
      },
      "execution_count": 13,
      "outputs": []
    },
    {
      "cell_type": "code",
      "source": [
        "# Training HyperParameters\n",
        "batch_size = 64\n",
        "total_steps = 2000\n",
        "lr = 2e-4\n",
        "best_model_path = 'models/finetune.pt'\n",
        "os.makedirs('models/', exist_ok = True)"
      ],
      "metadata": {
        "id": "VYFH1f0ULdxP"
      },
      "execution_count": 14,
      "outputs": []
    },
    {
      "cell_type": "code",
      "source": [
        "# Data Path\n",
        "train_path = f'{project_path}/data/finetune/train.txt'\n",
        "valid_path = f'{project_path}/data/finetune/valid.txt'\n",
        "\n",
        "with open(train_path, 'r', encoding='utf-8') as f:\n",
        "    train_data = tokenizer.encode(f.read())\n",
        "\n",
        "with open(valid_path, 'r', encoding='utf-8') as f:\n",
        "    valid_data = tokenizer.encode(f.read())\n",
        "\n",
        "train_data = torch.tensor(train_data, dtype=torch.long)\n",
        "valid_data = torch.tensor(valid_data, dtype=torch.long)"
      ],
      "metadata": {
        "id": "rZrNQ0-jLduj"
      },
      "execution_count": 15,
      "outputs": []
    },
    {
      "cell_type": "code",
      "source": [
        "def get_batch(data, batch_size, block_size):\n",
        "    idx = torch.randint(len(data) - block_size, (batch_size,))\n",
        "    X = torch.stack([data[i: i + block_size] for i in idx])\n",
        "    y = torch.stack([data[i + 1: i + block_size + 1] for i in idx])\n",
        "    return X.to(device), y.to(device)"
      ],
      "metadata": {
        "id": "l2awoyG6HDXZ"
      },
      "execution_count": 16,
      "outputs": []
    },
    {
      "cell_type": "code",
      "source": [
        "train_loader = get_batch(train_data, batch_size, sequence_length)\n",
        "valid_loader = get_batch(valid_data, batch_size, sequence_length)"
      ],
      "metadata": {
        "id": "qyzwcxmTHF2u"
      },
      "execution_count": 17,
      "outputs": []
    },
    {
      "cell_type": "code",
      "source": [
        "# Building Up Encoder Only Model\n",
        "model = NeuroFormer(\n",
        "    mode=mode,\n",
        "    vocab_size=vocab_size,\n",
        "    sequence_length=sequence_length,\n",
        "    d_model=d_model,\n",
        "    num_heads=num_heads,\n",
        "    hidden=hidden,\n",
        "    num_layers=num_layers,\n",
        "    drop_prob=drop_prob\n",
        ").to(device)"
      ],
      "metadata": {
        "id": "f4Rob0mBLdr-"
      },
      "execution_count": 18,
      "outputs": []
    },
    {
      "cell_type": "code",
      "source": [
        "print(f\"Model parameters: {sum(p.numel() for p in model.parameters()):,}\")"
      ],
      "metadata": {
        "colab": {
          "base_uri": "https://localhost:8080/"
        },
        "id": "usz-Y6UXLdpZ",
        "outputId": "685291f5-f7a2-4319-f08b-6222d63caf48"
      },
      "execution_count": 19,
      "outputs": [
        {
          "output_type": "stream",
          "name": "stdout",
          "text": [
            "Model parameters: 25,567,311\n"
          ]
        }
      ]
    },
    {
      "cell_type": "code",
      "source": [
        "checkpoint_path = '/content/drive/MyDrive/Base.pt'\n",
        "model.load_state_dict(torch.load(checkpoint_path))"
      ],
      "metadata": {
        "colab": {
          "base_uri": "https://localhost:8080/"
        },
        "id": "E-R7bosfKNjG",
        "outputId": "9e386fbf-ad8a-47a3-fc75-7f59b22b6213"
      },
      "execution_count": 23,
      "outputs": [
        {
          "output_type": "execute_result",
          "data": {
            "text/plain": [
              "<All keys matched successfully>"
            ]
          },
          "metadata": {},
          "execution_count": 23
        }
      ]
    },
    {
      "cell_type": "code",
      "source": [
        "for i, layer in enumerate(model.model.layers):\n",
        "    if i < 4:\n",
        "        for param in layer.parameters():\n",
        "            param.requires_grad = False"
      ],
      "metadata": {
        "id": "LfHcWTKecR89"
      },
      "execution_count": 24,
      "outputs": []
    },
    {
      "cell_type": "code",
      "source": [
        "# Defining Optimizer, scheduler and Criterion\n",
        "optimizer = optim.AdamW(model.parameters(), lr=lr, weight_decay=0.01)\n",
        "criterion = nn.CrossEntropyLoss()\n",
        "\n",
        "lr_scheduler = ReduceLROnPlateau(\n",
        "    optimizer,\n",
        "    mode='min',\n",
        "    factor=0.5,\n",
        "    patience=2,\n",
        "    threshold=1e-4,\n",
        "    min_lr=1e-6\n",
        ")"
      ],
      "metadata": {
        "id": "6PUGnreALdjr"
      },
      "execution_count": 25,
      "outputs": []
    },
    {
      "cell_type": "code",
      "source": [
        "def eval(model, dataloader):\n",
        "    model.eval()\n",
        "    total_loss = 0\n",
        "\n",
        "    with torch.no_grad():\n",
        "        for batch in dataloader:\n",
        "\n",
        "            input_ids, labels = get_batch(train_data, batch_size, sequence_length)\n",
        "\n",
        "            logits = model(input_ids)\n",
        "            loss = criterion(logits.view(-1, logits.size(-1)), labels.reshape(-1))\n",
        "            total_loss += loss.item()\n",
        "\n",
        "    return total_loss / len(dataloader)"
      ],
      "metadata": {
        "id": "HFzLc4O2LdhH"
      },
      "execution_count": 26,
      "outputs": []
    },
    {
      "cell_type": "code",
      "source": [
        "train_losses, val_losses, val_steps = [], [], []"
      ],
      "metadata": {
        "id": "xmEIlDf5LdeM"
      },
      "execution_count": 27,
      "outputs": []
    },
    {
      "cell_type": "code",
      "source": [
        "def train_model():\n",
        "    model.train()\n",
        "    best_val_loss = float('inf')\n",
        "    step = 0\n",
        "\n",
        "    while step < total_steps:\n",
        "        for batch in train_loader:\n",
        "\n",
        "            if step >= total_steps:\n",
        "                break\n",
        "\n",
        "            input_ids, labels = get_batch(train_data, batch_size, sequence_length)\n",
        "\n",
        "            optimizer.zero_grad()\n",
        "\n",
        "            logits = model(input_ids)\n",
        "            loss = criterion(logits.view(-1, logits.size(-1)), labels.reshape(-1))\n",
        "\n",
        "            loss.backward()\n",
        "            optimizer.step()\n",
        "            torch.nn.utils.clip_grad_norm_(model.parameters(), max_norm=1.0)\n",
        "\n",
        "            train_losses.append(loss.item())\n",
        "\n",
        "            if step % 200 == 0 or step == total_steps - 1:\n",
        "                avg_val_loss = eval(model, valid_loader)\n",
        "                val_losses.append(avg_val_loss)\n",
        "                val_steps.append(step)\n",
        "                model.train()\n",
        "\n",
        "                print(f\"Step {step}: Train Loss: {loss.item():.4f}, Val Loss = {avg_val_loss:.4f}\")\n",
        "\n",
        "                prev_lr = optimizer.param_groups[0]['lr']\n",
        "                lr_scheduler.step(avg_val_loss)\n",
        "                new_lr = optimizer.param_groups[0]['lr']\n",
        "                if new_lr != prev_lr:\n",
        "                    print(f\"Learning rate reduced to {new_lr:.6f}\")\n",
        "\n",
        "                if avg_val_loss < best_val_loss:\n",
        "                    best_val_loss = avg_val_loss\n",
        "                    torch.save(model.state_dict(), best_model_path)\n",
        "                    print(f\"Best model saved at step {step}\")\n",
        "\n",
        "            step += 1"
      ],
      "metadata": {
        "id": "blrzeU7LLdbS"
      },
      "execution_count": 28,
      "outputs": []
    },
    {
      "cell_type": "code",
      "source": [
        "train_model()"
      ],
      "metadata": {
        "colab": {
          "base_uri": "https://localhost:8080/"
        },
        "id": "4kRcZ509LdY0",
        "outputId": "5af3204b-8d1a-47dd-a81c-772c04057f74"
      },
      "execution_count": 29,
      "outputs": [
        {
          "output_type": "stream",
          "name": "stdout",
          "text": [
            "Step 0: Train Loss: 1.7726, Val Loss = 1.5924\n",
            "Best model saved at step 0\n",
            "Step 200: Train Loss: 1.1123, Val Loss = 1.0482\n",
            "Best model saved at step 200\n",
            "Step 400: Train Loss: 1.0570, Val Loss = 1.0300\n",
            "Best model saved at step 400\n",
            "Step 600: Train Loss: 1.0555, Val Loss = 0.9992\n",
            "Best model saved at step 600\n",
            "Step 800: Train Loss: 1.0549, Val Loss = 0.9921\n",
            "Best model saved at step 800\n",
            "Step 1000: Train Loss: 1.0253, Val Loss = 0.9637\n",
            "Best model saved at step 1000\n",
            "Step 1200: Train Loss: 1.0205, Val Loss = 0.9480\n",
            "Best model saved at step 1200\n",
            "Step 1400: Train Loss: 0.9790, Val Loss = 0.9711\n",
            "Step 1600: Train Loss: 0.9936, Val Loss = 0.9420\n",
            "Best model saved at step 1600\n",
            "Step 1800: Train Loss: 0.9735, Val Loss = 0.9347\n",
            "Best model saved at step 1800\n",
            "Step 1999: Train Loss: 0.9962, Val Loss = 0.9270\n",
            "Best model saved at step 1999\n"
          ]
        }
      ]
    },
    {
      "cell_type": "code",
      "source": [
        "def visualize(train_losses, val_losses, val_steps):\n",
        "    plt.plot(train_losses, label='Train Loss')\n",
        "    plt.plot(val_steps, val_losses, label='Val Loss')\n",
        "    plt.xlabel('Steps')\n",
        "    plt.ylabel('Loss')\n",
        "    plt.title('Training and Validation Loss')\n",
        "    plt.legend()\n",
        "    plt.show()"
      ],
      "metadata": {
        "id": "Jp_-YVM5LdWI"
      },
      "execution_count": 30,
      "outputs": []
    },
    {
      "cell_type": "code",
      "source": [
        "visualize(train_losses, val_losses, val_steps)"
      ],
      "metadata": {
        "id": "WI866tC9LdTb",
        "colab": {
          "base_uri": "https://localhost:8080/",
          "height": 472
        },
        "outputId": "2d0243f8-1a44-4e37-d416-352ecf3d0187"
      },
      "execution_count": 31,
      "outputs": [
        {
          "output_type": "display_data",
          "data": {
            "text/plain": [
              "<Figure size 640x480 with 1 Axes>"
            ],
            "image/png": "[encoded data removed]"
          },
          "metadata": {}
        }
      ]
    },
    {
      "cell_type": "code",
      "source": [
        "import torch\n",
        "import torch.nn as nn\n",
        "\n",
        "@torch.no_grad()\n",
        "def generate(model, tokenizer, start_text, max_new_tokens=200, block_size=256, temperature=1.0, device='cuda'):\n",
        "    model.eval()\n",
        "\n",
        "    context_ids = tokenizer.encode(start_text)\n",
        "    context = torch.tensor(context_ids, dtype=torch.long, device=device).unsqueeze(0)\n",
        "\n",
        "    for _ in range(max_new_tokens):\n",
        "\n",
        "        input_ids = context[:, -block_size:]\n",
        "\n",
        "        logits = model(input_ids)\n",
        "        logits = logits[:, -1, :] / temperature\n",
        "        probs = torch.softmax(logits, dim=-1)\n",
        "\n",
        "        next_token = torch.multinomial(probs, num_samples=1)\n",
        "\n",
        "        context = torch.cat((context, next_token), dim=1)\n",
        "\n",
        "    output_text = tokenizer.decode(context[0].tolist())\n",
        "    return output_text"
      ],
      "metadata": {
        "id": "_r8bNgOu9ZKY"
      },
      "execution_count": 32,
      "outputs": []
    },
    {
      "cell_type": "code",
      "source": [
        "def chat(model, tokenizer, max_new_tokens=200, device='cuda'):\n",
        "    print(\"Chatbot ready! Type 'exit' to stop.\")\n",
        "    context = \"\"\n",
        "\n",
        "    while True:\n",
        "        user_input = input(\"<user> \")\n",
        "        if user_input.lower() == \"exit\":\n",
        "            break\n",
        "\n",
        "        context += f\"<user> {user_input}\\n<assistant> \"\n",
        "        response = generate(\n",
        "            model,\n",
        "            tokenizer,\n",
        "            start_text=context,\n",
        "            max_new_tokens=max_new_tokens,\n",
        "            block_size=256,\n",
        "            temperature=0.8,\n",
        "            device=device\n",
        "        )\n",
        "\n",
        "        new_response = response[len(context):].split(\"<user>\")[0].strip()\n",
        "        print(f\"<assistant> {new_response}\\n\")\n",
        "\n",
        "        context += f\"{new_response}\\n\""
      ],
      "metadata": {
        "id": "ZIzc4w9Tlydl"
      },
      "execution_count": 33,
      "outputs": []
    },
    {
      "cell_type": "code",
      "source": [
        "chat(model, tokenizer, device=device)"
      ],
      "metadata": {
        "id": "UQ0DoJiyKv0C",
        "colab": {
          "base_uri": "https://localhost:8080/"
        },
        "outputId": "03fca422-bda6-4373-adc2-0680b97693d4"
      },
      "execution_count": 35,
      "outputs": [
        {
          "name": "stdout",
          "output_type": "stream",
          "text": [
            "Chatbot ready! Type 'exit' to stop.\n",
            "<user> What is AI\n",
            "<assistant> Palace ?\n",
            "\n",
            "<user> Hello How are you\n",
            "<assistant> In . What are you maintaining ?\n",
            "<assistant> I was happy .\n",
            "\n",
            "<user> I am Good\n",
            "<assistant> Good .\n",
            "\n",
            "<user> what do you do\n",
            "<assistant> well , My English in ?\n",
            "<assistant> I don't know . I'll always be a nice film .\n",
            "\n",
            "<user> what can you do\n",
            "<assistant> buy the book did you soon ?\n",
            "\n",
            "<user> Are you Alright?\n",
            "<assistant> well , I'm very problems about your English in Linjang . Now much .\n",
            "\n",
            "<user> Do you Know English\n",
            "<assistant> what's the problem ?\n",
            "\n",
            "<user> I have problem in english\n",
            "<assistant> what do you say ?\n",
            "\n",
            "<user> How can i improve my english\n",
            "<assistant> this is the museum ?\n",
            "\n",
            "<user> what is museum?\n",
            "<assistant> I don't know what you mean .\n",
            "\n",
            "<user> exit\n"
          ]
        }
      ]
    }
  ]
}