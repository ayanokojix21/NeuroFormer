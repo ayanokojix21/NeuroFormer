{
  "nbformat": 4,
  "nbformat_minor": 0,
  "metadata": {
    "colab": {
      "provenance": [],
      "gpuType": "T4"
    },
    "kernelspec": {
      "name": "python3",
      "display_name": "Python 3"
    },
    "language_info": {
      "name": "python"
    },
    "accelerator": "GPU"
  },
  "cells": [
    {
      "cell_type": "code",
      "source": [
        "%env CUDA_LAUNCH_BLOCKING=1"
      ],
      "metadata": {
        "colab": {
          "base_uri": "https://localhost:8080/"
        },
        "id": "5JR4RAVTdiyJ",
        "outputId": "40d4958e-ef65-434b-a9b5-e46e73fafc29"
      },
      "execution_count": 1,
      "outputs": [
        {
          "output_type": "stream",
          "name": "stdout",
          "text": [
            "env: CUDA_LAUNCH_BLOCKING=1\n"
          ]
        }
      ]
    },
    {
      "cell_type": "code",
      "execution_count": 2,
      "metadata": {
        "colab": {
          "base_uri": "https://localhost:8080/"
        },
        "id": "SzVlYZNnLSgs",
        "outputId": "37aee47c-b8bc-449f-d846-177c00e89700"
      },
      "outputs": [
        {
          "output_type": "stream",
          "name": "stdout",
          "text": [
            "Cloning into 'NeuroFormer'...\n",
            "remote: Enumerating objects: 35, done.\u001b[K\n",
            "remote: Counting objects: 100% (35/35), done.\u001b[K\n",
            "remote: Compressing objects: 100% (29/29), done.\u001b[K\n",
            "remote: Total 35 (delta 5), reused 30 (delta 3), pack-reused 0 (from 0)\u001b[K\n",
            "Receiving objects: 100% (35/35), 17.98 KiB | 8.99 MiB/s, done.\n",
            "Resolving deltas: 100% (5/5), done.\n",
            "Filtering content: 100% (5/5), 473.25 MiB | 16.76 MiB/s, done.\n"
          ]
        }
      ],
      "source": [
        "! git clone https://github.com/ayanokojix21/NeuroFormer.git"
      ]
    },
    {
      "cell_type": "code",
      "source": [
        "project_path = \"/content/NeuroFormer\""
      ],
      "metadata": {
        "id": "nmubSwLELeHM"
      },
      "execution_count": 3,
      "outputs": []
    },
    {
      "cell_type": "code",
      "source": [
        "import sys\n",
        "sys.path.append(project_path)"
      ],
      "metadata": {
        "id": "lMSKBRowLeDm"
      },
      "execution_count": 4,
      "outputs": []
    },
    {
      "cell_type": "code",
      "source": [
        "# Importing Libraries\n",
        "import torch\n",
        "import torch.nn as nn\n",
        "import torch.optim as optim\n",
        "from torch.optim.lr_scheduler import ReduceLROnPlateau\n",
        "import os\n",
        "import matplotlib.pyplot as plt\n",
        "import json"
      ],
      "metadata": {
        "id": "t9Bg2hQzLeBC"
      },
      "execution_count": 5,
      "outputs": []
    },
    {
      "cell_type": "code",
      "source": [
        "from models.NeuroFormer import NeuroFormer # Importing the core Model\n",
        "from data.Tokenization import Tokenizer"
      ],
      "metadata": {
        "id": "vFj1Hd8-Ld-c",
        "colab": {
          "base_uri": "https://localhost:8080/"
        },
        "outputId": "47b2392b-2cc7-46f6-dd43-0fd948b7eadb"
      },
      "execution_count": 6,
      "outputs": [
        {
          "output_type": "stream",
          "name": "stdout",
          "text": [
            "Vocab Size: 79\n"
          ]
        }
      ]
    },
    {
      "cell_type": "code",
      "source": [
        "# Setting Device to GPU\n",
        "device = torch.device('cuda' if torch.cuda.is_available() else 'cpu')\n",
        "device"
      ],
      "metadata": {
        "colab": {
          "base_uri": "https://localhost:8080/"
        },
        "id": "RAHxAHZ9Ld7x",
        "outputId": "97a1c23f-0835-4984-b6c7-fc3eb48f5c26"
      },
      "execution_count": 7,
      "outputs": [
        {
          "output_type": "execute_result",
          "data": {
            "text/plain": [
              "device(type='cuda')"
            ]
          },
          "metadata": {},
          "execution_count": 7
        }
      ]
    },
    {
      "cell_type": "code",
      "source": [
        "# For Reproducability\n",
        "torch.manual_seed(42)\n",
        "torch.cuda.manual_seed(42)"
      ],
      "metadata": {
        "id": "C4a12FScLd5M"
      },
      "execution_count": 8,
      "outputs": []
    },
    {
      "cell_type": "code",
      "source": [
        "# Loading Tokenizer data\n",
        "with open(f'{project_path}/tokenizer/char2idx.json') as f:\n",
        "    char2idx = json.load(f)"
      ],
      "metadata": {
        "id": "u04jdZGa-o_7"
      },
      "execution_count": 9,
      "outputs": []
    },
    {
      "cell_type": "code",
      "source": [
        "tokenizer = Tokenizer(char2idx) # Loading tokenizer object"
      ],
      "metadata": {
        "id": "lplm9Ahs-Svp"
      },
      "execution_count": 10,
      "outputs": []
    },
    {
      "cell_type": "code",
      "source": [
        "vocab_size = tokenizer.vocab_size\n",
        "vocab_size"
      ],
      "metadata": {
        "colab": {
          "base_uri": "https://localhost:8080/"
        },
        "id": "7F8nJoPiLd2g",
        "outputId": "62106684-eac0-40e7-8b88-497791703825"
      },
      "execution_count": 11,
      "outputs": [
        {
          "output_type": "execute_result",
          "data": {
            "text/plain": [
              "79"
            ]
          },
          "metadata": {},
          "execution_count": 11
        }
      ]
    },
    {
      "cell_type": "code",
      "source": [
        "# Model HyperParameters\n",
        "mode = 'decoder_only'\n",
        "vocab_size = vocab_size\n",
        "sequence_length = 256\n",
        "d_model = 384\n",
        "num_heads = 6\n",
        "hidden = 4 * d_model\n",
        "num_layers = 4\n",
        "drop_prob = 0.2"
      ],
      "metadata": {
        "id": "U6sDX2LwLdz0"
      },
      "execution_count": 12,
      "outputs": []
    },
    {
      "cell_type": "code",
      "source": [
        "# Training HyperParameters\n",
        "batch_size = 32\n",
        "total_steps = 8000\n",
        "lr = 3e-4\n",
        "best_model_path = 'models/pretrain.pt'\n",
        "os.makedirs('models/', exist_ok = True)"
      ],
      "metadata": {
        "id": "VYFH1f0ULdxP"
      },
      "execution_count": 13,
      "outputs": []
    },
    {
      "cell_type": "code",
      "source": [
        "# Data Path\n",
        "train_path = f'{project_path}/data/pretrain/train.txt'\n",
        "valid_path = f'{project_path}/data/pretrain/valid.txt'\n",
        "\n",
        "with open(train_path, 'r', encoding='utf-8') as f:\n",
        "    train_data = tokenizer.encode(f.read())\n",
        "\n",
        "with open(valid_path, 'r', encoding='utf-8') as f:\n",
        "    valid_data = tokenizer.encode(f.read())\n",
        "\n",
        "train_data = torch.tensor(train_data, dtype=torch.long)\n",
        "valid_data = torch.tensor(valid_data, dtype=torch.long)"
      ],
      "metadata": {
        "id": "rZrNQ0-jLduj"
      },
      "execution_count": 14,
      "outputs": []
    },
    {
      "cell_type": "code",
      "source": [
        "def get_batch(data, batch_size, block_size):\n",
        "    idx = torch.randint(len(data) - block_size, (batch_size,))\n",
        "    X = torch.stack([data[i: i + block_size] for i in idx])\n",
        "    y = torch.stack([data[i + 1: i + block_size + 1] for i in idx])\n",
        "    return X.to(device), y.to(device)"
      ],
      "metadata": {
        "id": "l2awoyG6HDXZ"
      },
      "execution_count": 15,
      "outputs": []
    },
    {
      "cell_type": "code",
      "source": [
        "train_loader = get_batch(train_data, batch_size, sequence_length)\n",
        "valid_loader = get_batch(valid_data, batch_size, sequence_length)"
      ],
      "metadata": {
        "id": "qyzwcxmTHF2u"
      },
      "execution_count": 16,
      "outputs": []
    },
    {
      "cell_type": "code",
      "source": [
        "# Building Up Encoder Only Model\n",
        "model = NeuroFormer(\n",
        "    mode=mode,\n",
        "    vocab_size=vocab_size,\n",
        "    sequence_length=sequence_length,\n",
        "    d_model=d_model,\n",
        "    num_heads=num_heads,\n",
        "    hidden=hidden,\n",
        "    num_layers=num_layers,\n",
        "    drop_prob=drop_prob\n",
        ").to(device)"
      ],
      "metadata": {
        "id": "f4Rob0mBLdr-"
      },
      "execution_count": 17,
      "outputs": []
    },
    {
      "cell_type": "code",
      "source": [
        "print(f\"Model parameters: {sum(p.numel() for p in model.parameters()):,}\")"
      ],
      "metadata": {
        "colab": {
          "base_uri": "https://localhost:8080/"
        },
        "id": "usz-Y6UXLdpZ",
        "outputId": "03d454f3-aa66-4f75-f049-d93d23c45552"
      },
      "execution_count": 18,
      "outputs": [
        {
          "output_type": "stream",
          "name": "stdout",
          "text": [
            "Model parameters: 9,625,423\n"
          ]
        }
      ]
    },
    {
      "cell_type": "code",
      "source": [
        "# Defining Optimizer, scheduler and Criterion\n",
        "optimizer = optim.AdamW(model.parameters(), lr=lr, weight_decay=0.01)\n",
        "criterion = nn.CrossEntropyLoss()\n",
        "\n",
        "lr_scheduler = ReduceLROnPlateau(\n",
        "    optimizer,\n",
        "    mode='min',\n",
        "    factor=0.5,\n",
        "    patience=2,\n",
        "    threshold=1e-4,\n",
        "    min_lr=1e-6\n",
        ")"
      ],
      "metadata": {
        "id": "6PUGnreALdjr"
      },
      "execution_count": 19,
      "outputs": []
    },
    {
      "cell_type": "code",
      "source": [
        "def eval(model, dataloader):\n",
        "    model.eval()\n",
        "    total_loss = 0\n",
        "\n",
        "    with torch.no_grad():\n",
        "        for batch in dataloader:\n",
        "\n",
        "            input_ids, labels = get_batch(train_data, batch_size, sequence_length)\n",
        "\n",
        "            logits = model(input_ids)\n",
        "            loss = criterion(logits.view(-1, logits.size(-1)), labels.reshape(-1))\n",
        "            total_loss += loss.item()\n",
        "\n",
        "    return total_loss / len(dataloader)"
      ],
      "metadata": {
        "id": "HFzLc4O2LdhH"
      },
      "execution_count": 20,
      "outputs": []
    },
    {
      "cell_type": "code",
      "source": [
        "train_losses, val_losses, val_steps = [], [], []"
      ],
      "metadata": {
        "id": "xmEIlDf5LdeM"
      },
      "execution_count": 21,
      "outputs": []
    },
    {
      "cell_type": "code",
      "source": [
        "def train_model():\n",
        "    model.train()\n",
        "    best_val_loss = float('inf')\n",
        "    step = 0\n",
        "\n",
        "    while step < total_steps:\n",
        "        for batch in train_loader:\n",
        "\n",
        "            if step >= total_steps:\n",
        "                break\n",
        "\n",
        "            input_ids, labels = get_batch(train_data, batch_size, sequence_length)\n",
        "\n",
        "            optimizer.zero_grad()\n",
        "\n",
        "            logits = model(input_ids)\n",
        "            loss = criterion(logits.view(-1, logits.size(-1)), labels.reshape(-1))\n",
        "\n",
        "            loss.backward()\n",
        "            optimizer.step()\n",
        "            torch.nn.utils.clip_grad_norm_(model.parameters(), max_norm=1.0)\n",
        "\n",
        "            train_losses.append(loss.item())\n",
        "\n",
        "            if step % 200 == 0 or step == total_steps - 1:\n",
        "                avg_val_loss = eval(model, valid_loader)\n",
        "                val_losses.append(avg_val_loss)\n",
        "                val_steps.append(step)\n",
        "                model.train()\n",
        "\n",
        "                print(f\"Step {step}: Train Loss: {loss.item():.4f}, Val Loss = {avg_val_loss:.4f}\")\n",
        "\n",
        "                prev_lr = optimizer.param_groups[0]['lr']\n",
        "                lr_scheduler.step(avg_val_loss)\n",
        "                new_lr = optimizer.param_groups[0]['lr']\n",
        "                if new_lr != prev_lr:\n",
        "                    print(f\"Learning rate reduced to {new_lr:.6f}\")\n",
        "\n",
        "                if avg_val_loss < best_val_loss:\n",
        "                    best_val_loss = avg_val_loss\n",
        "                    torch.save(model.state_dict(), best_model_path)\n",
        "                    print(f\"Best model saved at step {step}\")\n",
        "\n",
        "            step += 1"
      ],
      "metadata": {
        "id": "blrzeU7LLdbS"
      },
      "execution_count": 22,
      "outputs": []
    },
    {
      "cell_type": "code",
      "source": [
        "train_model()"
      ],
      "metadata": {
        "colab": {
          "base_uri": "https://localhost:8080/"
        },
        "id": "4kRcZ509LdY0",
        "outputId": "b74b8475-5555-47fa-cb52-cebb765abd1b"
      },
      "execution_count": 23,
      "outputs": [
        {
          "output_type": "stream",
          "name": "stdout",
          "text": [
            "Step 0: Train Loss: 4.5236, Val Loss = 3.8267\n",
            "Best model saved at step 0\n",
            "Step 200: Train Loss: 2.5595, Val Loss = 2.5705\n",
            "Best model saved at step 200\n",
            "Step 400: Train Loss: 2.3429, Val Loss = 2.3341\n",
            "Best model saved at step 400\n",
            "Step 600: Train Loss: 2.1943, Val Loss = 2.2311\n",
            "Best model saved at step 600\n",
            "Step 800: Train Loss: 2.1248, Val Loss = 2.1486\n",
            "Best model saved at step 800\n",
            "Step 1000: Train Loss: 2.0570, Val Loss = 1.9589\n",
            "Best model saved at step 1000\n",
            "Step 1200: Train Loss: 2.0178, Val Loss = 1.8812\n",
            "Best model saved at step 1200\n",
            "Step 1400: Train Loss: 1.8063, Val Loss = 1.7875\n",
            "Best model saved at step 1400\n",
            "Step 1600: Train Loss: 1.9202, Val Loss = 1.7472\n",
            "Best model saved at step 1600\n",
            "Step 1800: Train Loss: 1.7717, Val Loss = 1.7679\n",
            "Step 2000: Train Loss: 1.6652, Val Loss = 1.7194\n",
            "Best model saved at step 2000\n",
            "Step 2200: Train Loss: 1.7472, Val Loss = 1.6819\n",
            "Best model saved at step 2200\n",
            "Step 2400: Train Loss: 1.6500, Val Loss = 1.6513\n",
            "Best model saved at step 2400\n",
            "Step 2600: Train Loss: 1.7022, Val Loss = 1.5566\n",
            "Best model saved at step 2600\n",
            "Step 2800: Train Loss: 1.7900, Val Loss = 1.5792\n",
            "Step 3000: Train Loss: 1.7379, Val Loss = 1.6154\n",
            "Step 3200: Train Loss: 1.6187, Val Loss = 1.5464\n",
            "Best model saved at step 3200\n",
            "Step 3400: Train Loss: 1.6058, Val Loss = 1.5248\n",
            "Best model saved at step 3400\n",
            "Step 3600: Train Loss: 1.6695, Val Loss = 1.5069\n",
            "Best model saved at step 3600\n",
            "Step 3800: Train Loss: 1.5681, Val Loss = 1.5109\n",
            "Step 4000: Train Loss: 1.5581, Val Loss = 1.4800\n",
            "Best model saved at step 4000\n",
            "Step 4200: Train Loss: 1.5858, Val Loss = 1.5083\n",
            "Step 4400: Train Loss: 1.5235, Val Loss = 1.5032\n",
            "Step 4600: Train Loss: 1.5229, Val Loss = 1.5582\n",
            "Learning rate reduced to 0.000150\n",
            "Step 4800: Train Loss: 1.5632, Val Loss = 1.4268\n",
            "Best model saved at step 4800\n",
            "Step 5000: Train Loss: 1.5084, Val Loss = 1.4963\n",
            "Step 5200: Train Loss: 1.5426, Val Loss = 1.4285\n",
            "Step 5400: Train Loss: 1.5241, Val Loss = 1.4740\n",
            "Learning rate reduced to 0.000075\n",
            "Step 5600: Train Loss: 1.5381, Val Loss = 1.4076\n",
            "Best model saved at step 5600\n",
            "Step 5800: Train Loss: 1.5894, Val Loss = 1.5089\n",
            "Step 6000: Train Loss: 1.5340, Val Loss = 1.4537\n",
            "Step 6200: Train Loss: 1.5507, Val Loss = 1.4997\n",
            "Learning rate reduced to 0.000037\n",
            "Step 6400: Train Loss: 1.5146, Val Loss = 1.4236\n",
            "Step 6600: Train Loss: 1.4401, Val Loss = 1.5017\n",
            "Step 6800: Train Loss: 1.5068, Val Loss = 1.4500\n",
            "Learning rate reduced to 0.000019\n",
            "Step 7000: Train Loss: 1.5101, Val Loss = 1.3905\n",
            "Best model saved at step 7000\n",
            "Step 7200: Train Loss: 1.4631, Val Loss = 1.4144\n",
            "Step 7400: Train Loss: 1.4373, Val Loss = 1.4717\n",
            "Step 7600: Train Loss: 1.4246, Val Loss = 1.4076\n",
            "Learning rate reduced to 0.000009\n",
            "Step 7800: Train Loss: 1.6210, Val Loss = 1.4316\n",
            "Step 7999: Train Loss: 1.5522, Val Loss = 1.5153\n"
          ]
        }
      ]
    },
    {
      "cell_type": "code",
      "source": [
        "def visualize(train_losses, val_losses, val_steps):\n",
        "    plt.plot(train_losses, label='Train Loss')\n",
        "    plt.plot(val_steps, val_losses, label='Val Loss')\n",
        "    plt.xlabel('Steps')\n",
        "    plt.ylabel('Loss')\n",
        "    plt.title('Training and Validation Loss')\n",
        "    plt.legend()\n",
        "    plt.show()"
      ],
      "metadata": {
        "id": "Jp_-YVM5LdWI"
      },
      "execution_count": 24,
      "outputs": []
    },
    {
      "cell_type": "code",
      "source": [
        "visualize(train_losses, val_losses, val_steps)"
      ],
      "metadata": {
        "id": "WI866tC9LdTb",
        "colab": {
          "base_uri": "https://localhost:8080/",
          "height": 472
        },
        "outputId": "6fa068fe-8ffc-47b9-ce50-5b45b0c8c5fb"
      },
      "execution_count": 25,
      "outputs": [
        {
          "output_type": "display_data",
          "data": {
            "text/plain": [
              "<Figure size 640x480 with 1 Axes>"
            ],
            "image/png": "[encoded data removed]"
          },
          "metadata": {}
        }
      ]
    },
    {
      "cell_type": "code",
      "source": [
        "import torch\n",
        "import torch.nn as nn\n",
        "\n",
        "@torch.no_grad()\n",
        "def generate(model, tokenizer, start_text='', max_new_tokens=200, block_size=256, device='cuda'):\n",
        "    model.eval()\n",
        "\n",
        "    context_ids = tokenizer.encode(start_text)\n",
        "    context = torch.tensor(context_ids, dtype=torch.long, device=device).unsqueeze(0)\n",
        "\n",
        "    for _ in range(max_new_tokens):\n",
        "\n",
        "        input_ids = context[:, -block_size:]\n",
        "\n",
        "        logits = model(input_ids)\n",
        "        logits = logits[:, -1, :]\n",
        "        probs = torch.softmax(logits, dim=-1)\n",
        "\n",
        "        next_token = torch.multinomial(probs, num_samples=1)\n",
        "\n",
        "        context = torch.cat((context, next_token), dim=1)\n",
        "\n",
        "    output_text = tokenizer.decode(context[0].tolist())\n",
        "    return output_text"
      ],
      "metadata": {
        "id": "_r8bNgOu9ZKY"
      },
      "execution_count": 37,
      "outputs": []
    },
    {
      "cell_type": "code",
      "source": [
        "generate(model, tokenizer, 'He walked into the room and noticed something strange')"
      ],
      "metadata": {
        "colab": {
          "base_uri": "https://localhost:8080/",
          "height": 53
        },
        "id": "ZIzc4w9Tlydl",
        "outputId": "65f897aa-ef7f-4185-99b5-41caa8f7ccee"
      },
      "execution_count": 45,
      "outputs": [
        {
          "output_type": "execute_result",
          "data": {
            "text/plain": [
              "\"He walked into the room and noticed something strangery law education, and work its technological security, including disputel, they have been lessed to credit? The team Christiane Diagrid New Zerman's struggle power FBI grice Okyova 70 real Cyry Opinio\""
            ],
            "application/vnd.google.colaboratory.intrinsic+json": {
              "type": "string"
            }
          },
          "metadata": {},
          "execution_count": 45
        }
      ]
    },
    {
      "cell_type": "code",
      "source": [],
      "metadata": {
        "id": "UQ0DoJiyKv0C"
      },
      "execution_count": null,
      "outputs": []
    }
  ]
}